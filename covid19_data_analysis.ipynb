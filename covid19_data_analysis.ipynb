{
 "cells": [
  {
   "cell_type": "markdown",
   "id": "f1ee0547",
   "metadata": {},
   "source": [
    "# COVID-19 Global Data Tracker\n",
    "This notebook analyzes global COVID-19 trends."
   ]
  },
  {
   "cell_type": "code",
   "execution_count": null,
   "id": "be063e8c",
   "metadata": {},
   "outputs": [],
   "source": [
    "import pandas as pd\n",
    "import matplotlib.pyplot as plt\n",
    "import seaborn as sns"
   ]
  },
  {
   "cell_type": "markdown",
   "id": "a87b698b",
   "metadata": {},
   "source": [
    "## Step 1: Load the Data"
   ]
  },
  {
   "cell_type": "code",
   "execution_count": null,
   "id": "da6d604d",
   "metadata": {},
   "outputs": [],
   "source": [
    "df = pd.read_csv('owid-covid-data.csv')\n",
    "df.head()"
   ]
  },
  {
   "cell_type": "markdown",
   "id": "0cdb3b54",
   "metadata": {},
   "source": [
    "## Step 2: Explore the Data"
   ]
  },
  {
   "cell_type": "code",
   "execution_count": null,
   "id": "3b99b7f1",
   "metadata": {},
   "outputs": [],
   "source": [
    "print(df.columns)\n",
    "print(df.isnull().sum())\n",
    "df.describe()"
   ]
  },
  {
   "cell_type": "markdown",
   "id": "aeae130b",
   "metadata": {},
   "source": [
    "## Step 3: Clean the Data"
   ]
  },
  {
   "cell_type": "code",
   "execution_count": null,
   "id": "65c2c8c8",
   "metadata": {},
   "outputs": [],
   "source": [
    "\n",
    "df['date'] = pd.to_datetime(df['date'])\n",
    "countries = ['Kenya', 'United States', 'India']\n",
    "df = df[df['location'].isin(countries)]\n",
    "df = df.dropna(subset=['date', 'total_cases', 'total_deaths'])\n",
    "df.fillna(0, inplace=True)\n"
   ]
  },
  {
   "cell_type": "markdown",
   "id": "283bb412",
   "metadata": {},
   "source": [
    "## Step 4: Total COVID-19 Cases Over Time"
   ]
  },
  {
   "cell_type": "code",
   "execution_count": null,
   "id": "b84e9098",
   "metadata": {},
   "outputs": [],
   "source": [
    "\n",
    "for country in countries:\n",
    "    subset = df[df['location'] == country]\n",
    "    plt.plot(subset['date'], subset['total_cases'], label=country)\n",
    "plt.legend()\n",
    "plt.title(\"Total COVID-19 Cases Over Time\")\n",
    "plt.xlabel(\"Date\")\n",
    "plt.ylabel(\"Total Cases\")\n",
    "plt.show()\n"
   ]
  },
  {
   "cell_type": "markdown",
   "id": "86ebcf6b",
   "metadata": {},
   "source": [
    "## Step 5: Vaccination Progress Over Time"
   ]
  },
  {
   "cell_type": "code",
   "execution_count": null,
   "id": "8469e553",
   "metadata": {},
   "outputs": [],
   "source": [
    "\n",
    "for country in countries:\n",
    "    subset = df[df['location'] == country]\n",
    "    plt.plot(subset['date'], subset['total_vaccinations'], label=country)\n",
    "plt.legend()\n",
    "plt.title(\"Vaccination Progress Over Time\")\n",
    "plt.xlabel(\"Date\")\n",
    "plt.ylabel(\"Total Vaccinations\")\n",
    "plt.show()\n"
   ]
  },
  {
   "cell_type": "markdown",
   "id": "5a1f880d",
   "metadata": {},
   "source": [
    "## Optional: Choropleth Map (requires Plotly)"
   ]
  },
  {
   "cell_type": "code",
   "execution_count": null,
   "id": "a7dbd574",
   "metadata": {},
   "outputs": [],
   "source": [
    "\n",
    "import plotly.express as px\n",
    "\n",
    "latest = df[df['date'] == df['date'].max()]\n",
    "fig = px.choropleth(latest,\n",
    "                    locations=\"iso_code\",\n",
    "                    color=\"total_cases\",\n",
    "                    hover_name=\"location\",\n",
    "                    color_continuous_scale=\"Reds\",\n",
    "                    title=\"Total COVID-19 Cases by Country\")\n",
    "fig.show()\n"
   ]
  },
  {
   "cell_type": "markdown",
   "id": "73541bda",
   "metadata": {},
   "source": [
    "## Summary & Insights\n",
    "- Country X had the fastest vaccine rollout.\n",
    "- Country Y experienced a significant wave in month Z.\n",
    "- Death rates varied significantly by region."
   ]
  }
 ],
 "metadata": {
  "kernelspec": {
   "display_name": "Python 3",
   "language": "python",
   "name": "python3"
  },
  "language_info": {
   "name": "python",
   "version": "3.13.1"
  }
 },
 "nbformat": 4,
 "nbformat_minor": 5
}
